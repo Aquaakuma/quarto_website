{
 "cells": [
  {
   "cell_type": "raw",
   "id": "f05ff43b",
   "metadata": {
    "vscode": {
     "languageId": "raw"
    }
   },
   "source": [
    "---\n",
    "title: \"深度学习入门(day4) - 感知机\"\n",
    "description: \"学习感知机的构造。\"\n",
    "author: \"TUT\"\n",
    "date: \"2025-05-24\"\n",
    "format:\n",
    "  html:\n",
    "    code-fold: false\n",
    "    toc: true\n",
    "jupyter: python3\n",
    "---"
   ]
  },
  {
   "cell_type": "markdown",
   "id": "50f705b3",
   "metadata": {},
   "source": [
    "# 深度学习入门(day4) - 感知机\n",
    "## 感知机是什么\n",
    "感知机接受多个信号，输出一个信号（1或0）。也可以称为人工神经元，以下是一个接收两个信号的感知机的例子。$x_1$ 、 $x_2$ 是输入信号，$y$ 是输出信号，$w_1$、$w_2$ 是权重。输入信号传入神经元的时候会被分别乘以权重（$x_1w_1 、 x_2w_2$）。只有传过来信号的总和大于某个阈值 $\\theta$ 时，神经元才会被激活。\n",
    "\n",
    "<div style=\"text-align:center\">\n",
    "  <img src=\"./assets/4-1.drawio.svg\" alt=\"两个输入的感知机\" style=\"width: 20%;\">\n",
    "</div>\n",
    "\n",
    "用数学公式表示就是\n",
    "\n",
    "$$\n",
    "y=\\left\\{ \n",
    "\\begin{array}{ll}\n",
    "0 & (w_1x_1 + w_2x_2 \\leq \\theta) \\\\\n",
    "1 & (w_1x_1 + w_2x_2 > \\theta)\n",
    "\\end{array}\n",
    "\\right.\n",
    "$$\n",
    "\n",
    "感知机多个输入都有各自固有的权重，权重越大，对应该权重的信号的重要性就越高。\n",
    "\n",
    "## 简单逻辑电路\n",
    "### 与门（AND）\n",
    "接下来用感知机来表示逻辑电路，与门只有在两个输入都为1的时候才输出1，其他时候输出0\n",
    "\n",
    "|  x1  |  x2  | y |  \n",
    "|:---:|:---:|:---:|  \n",
    "| 0   | 0   | `0` |  \n",
    "| 0   | 1   | `0` |  \n",
    "| 1   | 0   | `0` |  \n",
    "| 1   | 1   | `1` |  \n",
    "\n",
    "当 $(w_1, w_2, \\theta)=(0.5, 0.5, 0.7)$ 时，设定这样的参数后，感知机满足与门的条件。当然，满足条件的参数选择方法可以有无数种。\n",
    "\n",
    "用python代码表示："
   ]
  },
  {
   "cell_type": "code",
   "execution_count": 6,
   "id": "eabf67f8",
   "metadata": {},
   "outputs": [
    {
     "name": "stdout",
     "output_type": "stream",
     "text": [
      "输入：0 0 输出：0\n",
      "输入：0 1 输出：0\n",
      "输入：1 0 输出：0\n",
      "输入：1 1 输出：1\n"
     ]
    }
   ],
   "source": [
    "def AND(x1, x2):\n",
    "    w1, w2, theta = 0.5, 0.5, 0.7\n",
    "    tmp = x1 * w1 + x2 * w2\n",
    "    if tmp <= theta:\n",
    "        return 0\n",
    "    else:\n",
    "        return 1\n",
    "\n",
    "input = [(0, 0), (0, 1), (1, 0), (1, 1)]\n",
    "\n",
    "for i in input:\n",
    "    print(f'输入：{i[0]} {i[1]} 输出：{AND(*i)}')"
   ]
  },
  {
   "cell_type": "markdown",
   "id": "9eee3255",
   "metadata": {},
   "source": [
    "\n",
    "\n",
    "\n",
    "### 与非门（NAND）、或门（OR）\n",
    "与非门就是颠倒了与门的输出\n",
    "\n",
    "|  x1  |  x2  | y |  \n",
    "|:---:|:---:|:---:|  \n",
    "| 0   | 0   | `1` |  \n",
    "| 0   | 1   | `1` |  \n",
    "| 1   | 0   | `1` |  \n",
    "| 1   | 1   | `0` |  \n",
    "\n",
    "可以用 $(w_1, w_2, \\theta)=(-0.5, -0.5, -0.7)$ 来实现与非门\n",
    "\n",
    "要表示或门\n",
    "\n",
    "|  x1  |  x2  | y |  \n",
    "|:---:|:---:|:---:|  \n",
    "| 0   | 0   | `0` |  \n",
    "| 0   | 1   | `1` |  \n",
    "| 1   | 0   | `1` |  \n",
    "| 1   | 1   | `1` |  \n",
    "\n",
    "可以设定 $(w_1, w_2, \\theta)=(0.5, 0.5, 0.4)$。\n",
    "\n",
    "\n",
    "接下来用另一种实现来表示感知机的行为：\n",
    "\n",
    "$$\n",
    "y=\\left\\{ \n",
    "\\begin{array}{ll}\n",
    "0 & (b + w_1x_1 + w_2x_2 \\leq 0) \\\\\n",
    "1 & (b + w_1x_1 + w_2x_2 > 0)\n",
    "\\end{array}\n",
    "\\right.\n",
    "$$\n",
    "\n",
    "至此，与门、与非门、或门可以用相同的构造的感知机表示，只有权重和偏置的值不同。"
   ]
  },
  {
   "cell_type": "code",
   "execution_count": 7,
   "id": "2338ef93",
   "metadata": {},
   "outputs": [
    {
     "name": "stdout",
     "output_type": "stream",
     "text": [
      "输入：0    0         与门输出：0         与非门输出：1         或门输出：0\n",
      "输入：0    1         与门输出：0         与非门输出：1         或门输出：1\n",
      "输入：1    0         与门输出：0         与非门输出：1         或门输出：1\n",
      "输入：1    1         与门输出：1         与非门输出：0         或门输出：1\n"
     ]
    }
   ],
   "source": [
    "import numpy as np\n",
    "\n",
    "def logic_gate(x1, x2, logic_gate):\n",
    "    x = np.array([x1, x2])\n",
    "    w = np.array(logic_gate[0:2])\n",
    "    b = logic_gate[2]\n",
    "    tmp = w @ x + b\n",
    "    if tmp <= 0:\n",
    "        return 0\n",
    "    else:\n",
    "        return 1\n",
    "\n",
    "AND = (0.5, 0.5, -0.7)\n",
    "NAND = (-0.5, -0.5, 0.7)\n",
    "OR = (0.5, 0.5, -0.2)\n",
    "\n",
    "\n",
    "input = [(0, 0), (0, 1), (1, 0), (1, 1)]\n",
    "\n",
    "for i in input:\n",
    "    print(f'输入：{i[0]}    {i[1]} \\\n",
    "        与门输出：{logic_gate(*i, AND)} \\\n",
    "        与非门输出：{logic_gate(*i, NAND)} \\\n",
    "        或门输出：{logic_gate(*i, OR)}')"
   ]
  },
  {
   "cell_type": "markdown",
   "id": "9ba31cbe",
   "metadata": {},
   "source": [
    "## 感知机的极限\n",
    "### 异或门\n",
    "如果要用感知机实现异或门\n",
    "\n",
    "|  x1  |  x2  | y |  \n",
    "|:---:|:---:|:---:|  \n",
    "| 0   | 0   | `0` |  \n",
    "| 0   | 1   | `1` |  \n",
    "| 1   | 0   | `1` |  \n",
    "| 1   | 1   | `0` |  \n",
    "\n",
    "在单层感知机中是无法实现异或门的，可以通过画图来解释其中原因。在下图中，直线下方表示输出为0的空间，上方表示输出为1的空间，四个点代表异或门的输入，要如何设定参数才能使直线 $x_1w_1 + x_2w_2 + b$ 正好把四个点正确的分开？\n",
    "\n",
    "<div style=\"text-align:center\">\n",
    "  <img src=\"./assets/4-2.svg\" alt=\"两个输入的感知机\" style=\"width: 40%;\">\n",
    "</div>\n",
    "\n",
    "无论如何用一条直线是做不到的。"
   ]
  },
  {
   "cell_type": "markdown",
   "id": "862d3ed3",
   "metadata": {},
   "source": [
    "## 多层感知机\n",
    "在电路中，通过与门、或门、非门之间的组合，是可以实现异或门的：\n",
    "\n",
    "<div style=\"text-align:center\">\n",
    "  <img src=\"./assets/4-3.drawio.svg\" alt=\"两个输入的感知机\" style=\"width: 40%;\">\n",
    "</div>\n",
    "\n",
    "真值表表示就是\n",
    "\n",
    "|  x1  |  x2  | y1 | y2 | y |\n",
    "|:---:|:---:|:---:|:---:|:---:|  \n",
    "| 0   | 0 | `1` | `0` | `0` | \n",
    "| 1   | 0 | `1` | `1` | `1` |   \n",
    "| 0   | 1 | `1` | `1` | `1` | \n",
    "| 1   | 1 | `0` | `1` | `0` | \n",
    "\n",
    "下面试着用python实现异或门"
   ]
  },
  {
   "cell_type": "code",
   "execution_count": 8,
   "id": "4acfd2cd",
   "metadata": {},
   "outputs": [
    {
     "name": "stdout",
     "output_type": "stream",
     "text": [
      "输入：0    0         异或门输出：0\n",
      "输入：0    1         异或门输出：1\n",
      "输入：1    0         异或门输出：1\n",
      "输入：1    1         异或门输出：0\n"
     ]
    }
   ],
   "source": [
    "def XOR(x1, x2):\n",
    "    s1 = logic_gate(x1, x2, NAND)\n",
    "    s2 = logic_gate(x1, x2, OR)\n",
    "    y = logic_gate(s1, s2, AND)\n",
    "    return y\n",
    "\n",
    "input = [(0, 0), (0, 1), (1, 0), (1, 1)]\n",
    "\n",
    "for i in input:\n",
    "    print(f'输入：{i[0]}    {i[1]} \\\n",
    "        异或门输出：{XOR(*i)}')"
   ]
  },
  {
   "cell_type": "markdown",
   "id": "da1446c2",
   "metadata": {},
   "source": [
    "与门、或门是单层感知机，异或门是2层感知机，叠加了多层的感知机也称为多层感知机。\n",
    "\n",
    "<div style=\"text-align:center\">\n",
    "  <img src=\"./assets/4-4.drawio.svg\" alt=\"两个输入的感知机\" style=\"width: 40%;\">\n",
    "</div>"
   ]
  },
  {
   "cell_type": "markdown",
   "id": "143ea6f9",
   "metadata": {},
   "source": [
    "## 总结\n",
    "理论上多层感知机可以像逻辑电路一样表示计算机。"
   ]
  }
 ],
 "metadata": {
  "kernelspec": {
   "display_name": "d2l",
   "language": "python",
   "name": "python3"
  },
  "language_info": {
   "codemirror_mode": {
    "name": "ipython",
    "version": 3
   },
   "file_extension": ".py",
   "mimetype": "text/x-python",
   "name": "python",
   "nbconvert_exporter": "python",
   "pygments_lexer": "ipython3",
   "version": "3.9.21"
  }
 },
 "nbformat": 4,
 "nbformat_minor": 5
}
