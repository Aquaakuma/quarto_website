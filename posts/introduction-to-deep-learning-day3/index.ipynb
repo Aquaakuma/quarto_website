{
 "cells": [
  {
   "cell_type": "raw",
   "id": "27ce0a0a",
   "metadata": {
    "vscode": {
     "languageId": "raw"
    }
   },
   "source": [
    "---\n",
    "title: \"深度学习入门(day3) - pytorch实现回归模型\"\n",
    "description: \"学习了线性回归和softmax回归之后，用pytroch简洁实现。\"\n",
    "author: \"TUT\"\n",
    "date: \"2025-05-23\"\n",
    "format: \n",
    "  html:\n",
    "    code-fold: false\n",
    "    toc: true\n",
    "jupyter: python3\n",
    "---"
   ]
  },
  {
   "cell_type": "markdown",
   "id": "d961a83c",
   "metadata": {},
   "source": [
    "# 深度学习入门(day3) - pytorch实现回归模型\n",
    "## 线性回归的简洁实现\n",
    "使用pytroch简洁的实现线性回归模型\n",
    "### 生成数据集\n",
    "首先生成人工数据集"
   ]
  },
  {
   "cell_type": "code",
   "execution_count": 167,
   "id": "3adb276d",
   "metadata": {},
   "outputs": [],
   "source": [
    "import numpy as np\n",
    "import torch\n",
    "from torch.utils import data\n",
    "\n",
    "def synthetic_data(w, b, num_examples):  #@save\n",
    "    \"\"\"生成y=Xw+b+噪声\"\"\"\n",
    "    X = torch.normal(0, 1, (num_examples, len(w)))\n",
    "    y = torch.matmul(X, w) + b\n",
    "    y += torch.normal(0, 0.01, y.shape)\n",
    "    return X, y.reshape((-1, 1))\n",
    "\n",
    "true_w = torch.tensor([2, -3.4])\n",
    "true_b = torch.tensor(4.2)\n",
    "\n",
    "features, labels = synthetic_data(true_w, true_b, 1000)"
   ]
  },
  {
   "cell_type": "markdown",
   "id": "30329f52",
   "metadata": {},
   "source": [
    "### 读取数据集\n",
    "调用`torch.utils`模块中的`DataLoader`方法读取数据集，它可以通过设定`shuffle`自动打乱顺序，同时返回批量为`batch_size`的可迭代对象。"
   ]
  },
  {
   "cell_type": "code",
   "execution_count": 168,
   "id": "9c823c60",
   "metadata": {},
   "outputs": [
    {
     "data": {
      "text/plain": [
       "[tensor([[ 1.6399,  1.0388],\n",
       "         [ 1.6064, -1.3936],\n",
       "         [-0.0386,  1.3717],\n",
       "         [ 0.9302, -1.1288],\n",
       "         [ 1.3340, -1.4483],\n",
       "         [-0.2042, -0.9463],\n",
       "         [-0.3373, -2.2008],\n",
       "         [ 1.4953, -0.2453],\n",
       "         [ 0.7445, -0.0620],\n",
       "         [ 0.9325, -0.7204]]),\n",
       " tensor([[ 3.9289],\n",
       "         [12.1537],\n",
       "         [-0.5295],\n",
       "         [ 9.9016],\n",
       "         [11.7910],\n",
       "         [ 7.0217],\n",
       "         [10.9965],\n",
       "         [ 8.0189],\n",
       "         [ 5.9063],\n",
       "         [ 8.5207]])]"
      ]
     },
     "execution_count": 168,
     "metadata": {},
     "output_type": "execute_result"
    }
   ],
   "source": [
    "def load_array(data_array, batch_size, is_train=True):\n",
    "    \"\"\"构造一个PyTorch数据迭代器\"\"\"\n",
    "    dataset = data.TensorDataset(*data_array) # 传入的data_array是元组(X, y)，要先解包，它能将多个tensor对齐组成数据集。\n",
    "    return data.DataLoader(dataset, batch_size=batch_size, shuffle=is_train)\n",
    "\n",
    "batch_size = 10\n",
    "data_iter = load_array((features, labels), batch_size)\n",
    "\n",
    "next(iter(data_iter))"
   ]
  },
  {
   "cell_type": "markdown",
   "id": "0cea1a16",
   "metadata": {},
   "source": [
    "### 定义模型\n",
    "首先定义一个模型变量`net`，它是一个`Sequential`类的实例。当给定输入数据时，它能将数据传入第一层，然后将第一次层的输出作为第二层的输入。。。"
   ]
  },
  {
   "cell_type": "code",
   "execution_count": 169,
   "id": "7b21cf7b",
   "metadata": {},
   "outputs": [],
   "source": [
    "from torch import nn\n",
    "\n",
    "net = nn.Sequential(nn.Linear(2, 1)) # Linear方法接受两个参数，第一个参数指定输入特征的形状，第二个指定输出特征的形状。"
   ]
  },
  {
   "cell_type": "markdown",
   "id": "d049684b",
   "metadata": {},
   "source": [
    "### 初始化模型参数\n",
    "可以通过`net[0]`来选定第一个层，使用`weight.data`和`bias.data`访问参数，它会被初始化成随机值，可以使用`normal_`和`fill_`来重写参数。"
   ]
  },
  {
   "cell_type": "code",
   "execution_count": 170,
   "id": "91983e88",
   "metadata": {},
   "outputs": [
    {
     "data": {
      "text/plain": [
       "tensor([0.])"
      ]
     },
     "execution_count": 170,
     "metadata": {},
     "output_type": "execute_result"
    }
   ],
   "source": [
    "net[0].weight.data.normal_(0, 0.01)\n",
    "net[0].bias.data.fill_(0)"
   ]
  },
  {
   "cell_type": "markdown",
   "id": "cc66252f",
   "metadata": {},
   "source": [
    "### 定义损失函数\n",
    "pytorch中的均方损失是`MSELoss`类，它默认返回所有样本损失的平均值（由reduction指定mean、sum、none）。"
   ]
  },
  {
   "cell_type": "code",
   "execution_count": 171,
   "id": "1c2e295b",
   "metadata": {},
   "outputs": [],
   "source": [
    "loss = nn.MSELoss()"
   ]
  },
  {
   "cell_type": "markdown",
   "id": "f033fbaf",
   "metadata": {},
   "source": [
    "### 定义优化算法\n",
    "在pytorch的`optim`模块中有很多梯度下降算法的变种，这里使用`SGD`，它接收的`params`参数通过`net.parameters()`获得"
   ]
  },
  {
   "cell_type": "code",
   "execution_count": 172,
   "id": "418445bf",
   "metadata": {},
   "outputs": [],
   "source": [
    "trainer =torch.optim.SGD(net.parameters(), lr=0.03)"
   ]
  },
  {
   "cell_type": "markdown",
   "id": "f160b5de",
   "metadata": {},
   "source": [
    "#### 训练\n",
    "对于每一个迭代周期里，通过迭代器不停的获取小批量的输入和相应的标签，对每一个小批量数据执行:\n",
    "\n",
    "1. 通过调用net(X)生成预测并计算损失l（前向传播）。\n",
    "\n",
    "2. 通过进行反向传播来计算梯度。\n",
    "\n",
    "3. 通过调用优化器来更新模型参数。"
   ]
  },
  {
   "cell_type": "code",
   "execution_count": 173,
   "id": "950efad7",
   "metadata": {},
   "outputs": [
    {
     "name": "stdout",
     "output_type": "stream",
     "text": [
      "epoch 1, loss 0.000193\n",
      "epoch 2, loss 0.000097\n",
      "epoch 3, loss 0.000096\n",
      "w的估计误差： tensor([ 0.0006, -0.0001])\n",
      "b的估计误差： tensor([-8.7261e-05])\n"
     ]
    }
   ],
   "source": [
    "num_epochs = 3\n",
    "for epoch in range(num_epochs):\n",
    "    for X, y in data_iter:\n",
    "        y_hat = net(X)\n",
    "        l = loss(y_hat, y)\n",
    "        trainer.zero_grad() # 清空梯度\n",
    "        l.backward()\n",
    "        trainer.step() # 执行一步梯度下降，更新参数。\n",
    "    l = loss(net(features), labels) # 观察每一个迭代周期的训练效果\n",
    "    print(f'epoch {epoch+1}, loss {l:f}')\n",
    "\n",
    "w = net[0].weight.data\n",
    "print('w的估计误差：', true_w - w.reshape(true_w.shape))\n",
    "b = net[0].bias.data\n",
    "print('b的估计误差：', true_b - b)"
   ]
  },
  {
   "cell_type": "markdown",
   "id": "89adf1d3",
   "metadata": {},
   "source": [
    "## softmax回归的简洁实现\n",
    "通过深度学习框架的高级API也能更方便地实现softmax回归模型。"
   ]
  },
  {
   "cell_type": "code",
   "execution_count": 174,
   "id": "7773f451",
   "metadata": {},
   "outputs": [],
   "source": [
    "import torch\n",
    "from torch import nn\n",
    "import torchvision\n",
    "from torchvision import transforms\n",
    "\n",
    "def get_dataloader_workers():\n",
    "    return 4\n",
    "\n",
    "def load_data_fashion_mnist(batch_size, resize=None):\n",
    "    \"\"\"下载Fashion-MNIST数据集，然后将其加载到内存中\"\"\"\n",
    "    trans = [transforms.ToTensor()]\n",
    "    if resize:\n",
    "        trans.insert(0, transforms.Resize(resize))\n",
    "    trans = transforms.Compose(trans)\n",
    "    mnist_train = torchvision.datasets.FashionMNIST(\n",
    "        root=\"./data\", train=True, transform=trans, download=True)\n",
    "    mnist_test = torchvision.datasets.FashionMNIST(\n",
    "        root=\"./data\", train=False, transform=trans, download=True)\n",
    "    return (data.DataLoader(mnist_train, batch_size, shuffle=True,\n",
    "                            num_workers=get_dataloader_workers()),\n",
    "            data.DataLoader(mnist_test, batch_size, shuffle=False,\n",
    "                            num_workers=get_dataloader_workers()))\n",
    "\n",
    "batch_size = 256\n",
    "train_iter, test_iter = load_data_fashion_mnist(batch_size)"
   ]
  },
  {
   "cell_type": "markdown",
   "id": "f83602dc",
   "metadata": {},
   "source": [
    "### 初始化模型参数\n",
    "softmax回归的输出层是一个全连接层。因此，只需在Sequential中添加一个带有10个输出的全连接层。"
   ]
  },
  {
   "cell_type": "code",
   "execution_count": 175,
   "id": "f8f36a6a",
   "metadata": {},
   "outputs": [
    {
     "data": {
      "text/plain": [
       "Sequential(\n",
       "  (0): Flatten(start_dim=1, end_dim=-1)\n",
       "  (1): Linear(in_features=784, out_features=10, bias=True)\n",
       ")"
      ]
     },
     "execution_count": 175,
     "metadata": {},
     "output_type": "execute_result"
    }
   ],
   "source": [
    "# PyTorch不会隐式地调整输入的形状。因此，\n",
    "# 我们在线性层前定义了展平层（flatten），来调整网络输入的形状\n",
    "# 通常第 0 维是批大小（batch_size），默认跳过，从第 1 维开始展平。\n",
    "net = nn.Sequential(nn.Flatten(), nn.Linear(784, 10))\n",
    "\n",
    "def init_weights(m):\n",
    "    if type(m) == nn.Linear:\n",
    "        nn.init.normal_(m.weight, std=0.01)\n",
    "\n",
    "net.apply(init_weights)"
   ]
  },
  {
   "cell_type": "markdown",
   "id": "542551ed",
   "metadata": {},
   "source": [
    "### softmax的实现\n",
    "对于之前的softmax函数 $\\hat{y_i}=\\frac{e^{o_j}}{\\sum_{k}{e^{o_k}}}$，如果 $o_k$ 中的一些数值非常大，那么 $e^{o_k}$ 可能会大过数据类型的上限，即上溢。可能会使分母变成inf，导致结果为0、inf或nan的 $\\hat{y_j}$。\n",
    "\n",
    "解决技巧是：先从所有 $o_k$ 中减去 $\\max{(o_k)}$。\n",
    "\n",
    "$$\n",
    "\\begin{aligned}\n",
    "\\hat{y_i} &= \\frac{e^{o_j-\\max{(o_k)}}e^{\\max{(o_k)}}}{\\sum_{k}e^{o_k-\\max{(o_k)}}e^{\\max{(o_k)}}} \\\\\n",
    "&= \\frac{e^{o_j-\\max{(o_k)}}}{\\sum_{k}e^{o_k-\\max{(o_k)}}}\n",
    "\\end{aligned}\n",
    "$$\n",
    "\n",
    "经过以上步骤，可能有一些 $o_j - \\max{(o_k)}$ 具有较大的负值。由于精度受限，$e^{o_j - \\max{(o_k)}}$ 将会有接近零的值，即下溢。这些值可能会四舍五入为零，使 $\\hat{y_i}$ 的值为 $-\\infty$。\n",
    "\n",
    "将softmax和交叉熵结合在一起，可以避免计算指数函数：\n",
    "$$\n",
    "\\begin{aligned}\n",
    "\\log{(\\hat{y_i})} &= \\log{\\left( \\frac{e^{o_j-\\max{(o_k)}}}{\\sum_{k}e^{o_k-\\max{(o_k)}}} \\right)} \\\\\n",
    "&= \\log{(e^{(o_j - \\max{(o_k)})})} - \\log{\\left( \\sum_{k}e^{o_k-\\max{(o_k)}} \\right)} \\\\\n",
    "&= o_j - \\max{(o_k)} - \\log{\\left( \\sum_{k}e^{o_k-\\max{(o_k)}} \\right)}\n",
    "\\end{aligned}\n",
    "$$\n",
    "\n",
    "最后在交叉熵损失函数中传递未规范化的预测，并同时计算softmax及其对数"
   ]
  },
  {
   "cell_type": "code",
   "execution_count": 176,
   "id": "7885e102",
   "metadata": {},
   "outputs": [],
   "source": [
    "\"\"\"自动对模型的原始输出（logits，未归一化的分数）进行 LogSoftmax 处理，无需手动添加 Softmax 层。\"\"\"\n",
    "loss = nn.CrossEntropyLoss(reduction='none') "
   ]
  },
  {
   "cell_type": "markdown",
   "id": "753afb3a",
   "metadata": {},
   "source": [
    "### 优化算法\n",
    "使用学习率为0.1的小批量随机梯度下降作为优化算法。"
   ]
  },
  {
   "cell_type": "code",
   "execution_count": 177,
   "id": "e54b503a",
   "metadata": {},
   "outputs": [],
   "source": [
    "trainer = torch.optim.SGD(net.parameters(), lr=0.1)"
   ]
  },
  {
   "cell_type": "markdown",
   "id": "4524d770",
   "metadata": {},
   "source": [
    "### 训练\n",
    "先定义绘图工具类"
   ]
  },
  {
   "cell_type": "code",
   "execution_count": 178,
   "id": "489d542c",
   "metadata": {},
   "outputs": [],
   "source": [
    "import matplotlib.pyplot as plt\n",
    "from IPython import display\n",
    "\n",
    "def accuracy(y_hat, y):\n",
    "    \"\"\"计算预测正确的数量\"\"\"\n",
    "    if len(y_hat.shape) > 1 and y_hat.shape[1] > 1: # y_hat 为矩阵\n",
    "        y_hat = y_hat.argmax(axis=1)\n",
    "    cmp = y_hat.type(y.dtype) == y\n",
    "    return float(cmp.type(y.dtype).sum())\n",
    "\n",
    "\n",
    "# 先定义一个累加器工具\n",
    "class Accumulator:\n",
    "    \"\"\"在n个变量上累加\"\"\"\n",
    "    def __init__(self, n):\n",
    "        self.data = [0.0] * n # 定义长度为n的列表\n",
    "    \n",
    "    def add(self, *args):\n",
    "        self.data = [a + float(b) for a, b in zip(self.data, args)] # 列表与输入值累加\n",
    "\n",
    "    def reset(self):\n",
    "        self.data = [0.0] * len(self.data)\n",
    "    \n",
    "    def __getitem__(self, idx):\n",
    "        return self.data[idx] # 重写[]方法\n",
    "\n",
    "\n",
    "def evaluate_accuracy(net, data_iter):\n",
    "    \"\"\"计算在指定数据集上模型的精度\"\"\"\n",
    "    if isinstance(net, torch.nn.Module):\n",
    "        net.eval()  # 将模型设置为评估模式\n",
    "    metric = Accumulator(2)  # 正确预测数、预测总数\n",
    "    with torch.no_grad():\n",
    "        for X, y in data_iter:\n",
    "            metric.add(accuracy(net(X), y), y.numel())\n",
    "    return metric[0] / metric[1]\n",
    "\n",
    "class Animator:\n",
    "    \"\"\"在动画中绘制数据\"\"\"\n",
    "    def __init__(self, xlabel=None, ylabel=None, legend=None, xlim=None,\n",
    "                 ylim=None, xscale='linear', yscale='linear',\n",
    "                 fmts=('-', 'm--', 'g-.', 'r:'), nrows=1, ncols=1,\n",
    "                 figsize=(3.5, 2.5)):\n",
    "        \n",
    "        # 创建图形和坐标轴\n",
    "        self.fig, self.axes = plt.subplots(nrows, ncols, figsize=figsize)\n",
    "        if nrows * ncols == 1:\n",
    "            self.axes = [self.axes]  # 统一为列表格式方便后续操作\n",
    "            \n",
    "        # 坐标轴配置函数（原生替代d2l.set_axes）\n",
    "        def config_axes(ax):\n",
    "            ax.set_xlabel(xlabel)\n",
    "            ax.set_ylabel(ylabel)\n",
    "            if xlim: ax.set_xlim(xlim)\n",
    "            if ylim: ax.set_ylim(ylim)\n",
    "            ax.set_xscale(xscale)\n",
    "            ax.set_yscale(yscale)\n",
    "            if legend: ax.legend(legend)\n",
    "            ax.grid()\n",
    "            \n",
    "        self.config_axes = lambda: config_axes(self.axes[0])  # 绑定配置函数\n",
    "        \n",
    "        # 初始化数据容器\n",
    "        self.X, self.Y, self.fmts = None, None, fmts\n",
    "\n",
    "    def add(self, x, y):\n",
    "        # 处理单值输入（兼容标量输入）\n",
    "        if not hasattr(y, \"__len__\"):\n",
    "            y = [y]\n",
    "        n = len(y)\n",
    "        \n",
    "        # 处理x输入（兼容标量输入）\n",
    "        if not hasattr(x, \"__len__\"):\n",
    "            x = [x] * n  # 所有y序列共享相同x值\n",
    "            \n",
    "        # 初始化数据存储列表\n",
    "        if not self.X:\n",
    "            self.X = [[] for _ in range(n)]\n",
    "        if not self.Y:\n",
    "            self.Y = [[] for _ in range(n)]\n",
    "            \n",
    "        # 添加数据点\n",
    "        for i, (a, b) in enumerate(zip(x, y)):\n",
    "            if a is not None and b is not None:\n",
    "                self.X[i].append(a)\n",
    "                self.Y[i].append(b)\n",
    "        \n",
    "        # 清除当前图形并重绘\n",
    "        self.axes[0].cla()\n",
    "        for x_data, y_data, fmt in zip(self.X, self.Y, self.fmts):\n",
    "            self.axes[0].plot(x_data, y_data, fmt)\n",
    "            \n",
    "        # 配置坐标轴\n",
    "        self.config_axes()\n",
    "        \n",
    "        # 动态显示图形（需在Jupyter中运行）\n",
    "        display.display(self.fig)\n",
    "        display.clear_output(wait=True)"
   ]
  },
  {
   "cell_type": "markdown",
   "id": "74418525",
   "metadata": {},
   "source": [
    "再定义训练函数"
   ]
  },
  {
   "cell_type": "code",
   "execution_count": 179,
   "id": "b6d1e3aa",
   "metadata": {},
   "outputs": [],
   "source": [
    "def train_epoch(net, train_iter, loss, updater):  #@save\n",
    "    \"\"\"训练模型一个迭代周期\"\"\"\n",
    "    # 将模型设置为训练模式\n",
    "    if isinstance(net, torch.nn.Module):\n",
    "        net.train()\n",
    "    # 训练损失总和、训练准确度总和、样本数\n",
    "    metric = Accumulator(3)\n",
    "    for X, y in train_iter:\n",
    "        # 计算梯度并更新参数\n",
    "        y_hat = net(X)\n",
    "        l = loss(y_hat, y)\n",
    "        if isinstance(updater, torch.optim.Optimizer):\n",
    "            # 使用PyTorch内置的优化器和损失函数\n",
    "            updater.zero_grad()\n",
    "            l.mean().backward()\n",
    "            updater.step()\n",
    "        else:\n",
    "            # 使用定制的优化器和损失函数\n",
    "            l.sum().backward()\n",
    "            updater(X.shape[0])\n",
    "        metric.add(float(l.sum()), accuracy(y_hat, y), y.numel())\n",
    "    # 返回训练损失和训练精度\n",
    "    return metric[0] / metric[2], metric[1] / metric[2]\n",
    "\n",
    "def train(net, train_iter, test_iter, loss, num_epochs, updater):\n",
    "    \"\"\"训练模型\"\"\"\n",
    "    animator = Animator(xlabel='epoch', xlim=[1, num_epochs], ylim=[0.3, 0.9],\n",
    "                        legend=['train loss', 'train acc', 'test acc'])\n",
    "    for epoch in range(num_epochs):\n",
    "        train_metrics = train_epoch(net, train_iter, loss, updater)\n",
    "        test_acc = evaluate_accuracy(net, test_iter)\n",
    "        animator.add(epoch + 1, train_metrics + (test_acc,))\n",
    "    train_loss, train_acc = train_metrics\n",
    "    assert train_loss < 0.5, train_loss\n",
    "    assert train_acc <= 1 and train_acc > 0.7, train_acc\n",
    "    assert test_acc <= 1 and test_acc > 0.7, test_acc"
   ]
  },
  {
   "cell_type": "markdown",
   "id": "bc4ff776",
   "metadata": {},
   "source": [
    "开始训练"
   ]
  },
  {
   "cell_type": "code",
   "execution_count": 180,
   "id": "e3395cc9",
   "metadata": {},
   "outputs": [
    {
     "data": {
      "image/png": "[encoded data removed]",
      "text/plain": [
       "<Figure size 350x250 with 1 Axes>"
      ]
     },
     "metadata": {},
     "output_type": "display_data"
    }
   ],
   "source": [
    "num_epoch = 10\n",
    "train(net, train_iter, test_iter, loss, num_epoch, trainer)"
   ]
  },
  {
   "cell_type": "markdown",
   "id": "828b493a",
   "metadata": {},
   "source": [
    "## 总结\n",
    "使用深度学习框架的内置API，不仅可以简洁高效的训练模型，还额外采取预防措施避免数值异常。"
   ]
  }
 ],
 "metadata": {
  "kernelspec": {
   "display_name": "d2l",
   "language": "python",
   "name": "python3"
  },
  "language_info": {
   "codemirror_mode": {
    "name": "ipython",
    "version": 3
   },
   "file_extension": ".py",
   "mimetype": "text/x-python",
   "name": "python",
   "nbconvert_exporter": "python",
   "pygments_lexer": "ipython3",
   "version": "3.9.21"
  }
 },
 "nbformat": 4,
 "nbformat_minor": 5
}
